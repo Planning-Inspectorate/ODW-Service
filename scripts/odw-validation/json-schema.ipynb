{
 "cells": [
  {
   "cell_type": "markdown",
   "metadata": {},
   "source": [
    "### Json schema validation examples with and without a format check"
   ]
  },
  {
   "cell_type": "markdown",
   "metadata": {},
   "source": [
    "jsonschema.validate() will not validate formats by default so any data that matches the \"type\" will pass through.\n",
    "\n",
    "A format checker can be defined and used with a function to specify the format you'd like to adhere to. In this case we want rfc3339 / ISO8601.\n",
    "Python has a simple function for this available from pypi https://pypi.org/project/rfc3339-validator/. This accepts a date string and returns True or False if the date matches the format.\n",
    "\n",
    "When converting json schemas to pydantic models using datamodel-codegenerator any \"date-time\" field is converted to \"AwareDateTime\" which is rfc3339 compliant.\n",
    "The results of using pydantic versus jsonschema are the same when a format check is implemented.\n",
    "\n",
    "Depending on the programming language and validator you're using it's worth checking the results are as expected and consistent.\n",
    "\n",
    "Further info below if interested:\n",
    "\n",
    "https://python-jsonschema.readthedocs.io/en/latest/validate/\n",
    "\n",
    "https://github.com/JamesNK/Newtonsoft.Json.Schema/issues/287\n",
    "\n",
    "https://datatracker.ietf.org/doc/html/rfc3339#section-5.6"
   ]
  },
  {
   "cell_type": "code",
   "execution_count": null,
   "metadata": {},
   "outputs": [],
   "source": [
    "from jsonschema import validate, FormatChecker, ValidationError\n",
    "from rfc3339_validator import validate_rfc3339"
   ]
  },
  {
   "cell_type": "markdown",
   "metadata": {},
   "source": [
    "#### Define format checker for date-time fields\n",
    "\n",
    "Using rfc3339 specification as documented here\n",
    "https://datatracker.ietf.org/doc/html/rfc3339#section-5.6"
   ]
  },
  {
   "cell_type": "code",
   "execution_count": null,
   "metadata": {},
   "outputs": [],
   "source": [
    "format_checker = FormatChecker()\n",
    "format_checker.checks(\"date-time\")(validate_rfc3339)"
   ]
  },
  {
   "cell_type": "markdown",
   "metadata": {},
   "source": [
    "#### Define schema and sample data"
   ]
  },
  {
   "cell_type": "code",
   "execution_count": null,
   "metadata": {},
   "outputs": [],
   "source": [
    "schema = {\n",
    "    \"type\" : \"object\",\n",
    "    \"properties\" : {\n",
    "        \"date\": {\"type\" : \"string\", \"format\" : \"date-time\"}\n",
    "    },\n",
    "}\n",
    "\n",
    "data = [{\n",
    "        \"date\" : \"2020-01-14T00:00:00.0000000\"\n",
    "        },\n",
    "        {\n",
    "        \"date\" : \"2024-01-11T12:34:56.789+00:00\"\n",
    "        },\n",
    "        {\n",
    "        \"date\" : \"123\"\n",
    "        }\n",
    "\n",
    "]"
   ]
  },
  {
   "cell_type": "markdown",
   "metadata": {},
   "source": [
    "#### Run validation on each data item - WITHOUT FORMAT CHECK\n",
    "\n",
    "NB: Format is not validated by default so any string will be valid"
   ]
  },
  {
   "cell_type": "code",
   "execution_count": null,
   "metadata": {},
   "outputs": [],
   "source": [
    "for message in data:\n",
    "    try:\n",
    "        print(\"#\"*50)\n",
    "        print(f\"Validating message {message} \\n\\n\")\n",
    "        validate(\n",
    "                instance = message, \n",
    "                schema = schema\n",
    "        )\n",
    "        print(\"Validation succeeded\")\n",
    "    except ValidationError as e:\n",
    "        print(f\"{e} \\n\\n\")"
   ]
  },
  {
   "cell_type": "markdown",
   "metadata": {},
   "source": [
    "#### Run validation on each data item - WITH FORMAT CHECK\n",
    "\n",
    "Uses format checker defined above according to rfc3339"
   ]
  },
  {
   "cell_type": "code",
   "execution_count": null,
   "metadata": {},
   "outputs": [],
   "source": [
    "for message in data:\n",
    "    try:\n",
    "        print(\"#\"*50)\n",
    "        print(f\"Validating message {message} \\n\\n\")\n",
    "        validate(\n",
    "                instance = message, \n",
    "                schema = schema,\n",
    "                format_checker = format_checker\n",
    "        )\n",
    "        print(\"Validation succeeded\")\n",
    "    except ValidationError as e:\n",
    "        print(f\"{e} \\n\\n\")"
   ]
  }
 ],
 "metadata": {
  "kernelspec": {
   "display_name": "base",
   "language": "python",
   "name": "python3"
  },
  "language_info": {
   "codemirror_mode": {
    "name": "ipython",
    "version": 3
   },
   "file_extension": ".py",
   "mimetype": "text/x-python",
   "name": "python",
   "nbconvert_exporter": "python",
   "pygments_lexer": "ipython3",
   "version": "3.10.13"
  }
 },
 "nbformat": 4,
 "nbformat_minor": 2
}
