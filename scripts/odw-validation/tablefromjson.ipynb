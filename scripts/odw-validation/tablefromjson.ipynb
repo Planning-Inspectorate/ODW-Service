{
 "cells": [
  {
   "cell_type": "code",
   "execution_count": 1,
   "metadata": {},
   "outputs": [
    {
     "name": "stdout",
     "output_type": "stream",
     "text": [
      "CREATE TABLE IF NOT EXISTS table_name (\n",
      "id INTEGER,\n",
      "name VARCHAR(255),\n",
      "age INTEGER,\n",
      "email VARCHAR(255),\n",
      "PRIMARY KEY (id, name)\n",
      ");\n"
     ]
    }
   ],
   "source": [
    "import json\n",
    "\n",
    "def json_schema_to_sql(schema):\n",
    "    sql_statement = \"CREATE TABLE IF NOT EXISTS table_name (\\n\"\n",
    "    columns = []\n",
    "\n",
    "    for prop, prop_schema in schema.get('properties', {}).items():\n",
    "        column_name = prop\n",
    "        data_type = \"VARCHAR(255)\"  # default SQL data type\n",
    "\n",
    "        if prop_schema['type'] == 'integer':\n",
    "            data_type = 'INTEGER'\n",
    "        elif prop_schema['type'] == 'string':\n",
    "            if prop_schema.get('format') == 'email':\n",
    "                data_type = 'VARCHAR(255)'  # Adjust as needed for your SQL implementation\n",
    "\n",
    "        columns.append(f\"{column_name} {data_type}\")\n",
    "\n",
    "    required_fields = schema.get('required', [])\n",
    "    primary_key = ', '.join(required_fields)\n",
    "    columns.append(f\"PRIMARY KEY ({primary_key})\")\n",
    "\n",
    "    sql_statement += \",\\n\".join(columns)\n",
    "    sql_statement += \"\\n);\"\n",
    "    return sql_statement\n",
    "\n",
    "# Example JSON schema\n",
    "json_schema = {\n",
    "  \"type\": \"object\",\n",
    "  \"properties\": {\n",
    "    \"id\": { \"type\": \"integer\" },\n",
    "    \"name\": { \"type\": \"string\" },\n",
    "    \"age\": { \"type\": \"integer\" },\n",
    "    \"email\": { \"type\": \"string\", \"format\": \"email\" }\n",
    "  },\n",
    "  \"required\": [\"id\", \"name\"]\n",
    "}\n",
    "\n",
    "# Convert JSON schema to SQL statement\n",
    "sql_statement = json_schema_to_sql(json_schema)\n",
    "print(sql_statement)\n"
   ]
  }
 ],
 "metadata": {
  "kernelspec": {
   "display_name": "base",
   "language": "python",
   "name": "python3"
  },
  "language_info": {
   "codemirror_mode": {
    "name": "ipython",
    "version": 3
   },
   "file_extension": ".py",
   "mimetype": "text/x-python",
   "name": "python",
   "nbconvert_exporter": "python",
   "pygments_lexer": "ipython3",
   "version": "3.10.13"
  }
 },
 "nbformat": 4,
 "nbformat_minor": 2
}
