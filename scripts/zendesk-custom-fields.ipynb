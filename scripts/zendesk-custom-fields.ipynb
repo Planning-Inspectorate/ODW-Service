{
 "cells": [
  {
   "attachments": {},
   "cell_type": "markdown",
   "metadata": {},
   "source": [
    "# Zendesk get custom field metadata"
   ]
  },
  {
   "attachments": {},
   "cell_type": "markdown",
   "metadata": {},
   "source": [
    "### Import modules"
   ]
  },
  {
   "cell_type": "code",
   "execution_count": null,
   "metadata": {},
   "outputs": [],
   "source": [
    "import requests as r\n",
    "import yaml\n",
    "import pprint\n",
    "import base64\n",
    "import json\n",
    "\n",
    "print(\"Imports complete\")"
   ]
  },
  {
   "attachments": {},
   "cell_type": "markdown",
   "metadata": {},
   "source": [
    "### Set variables"
   ]
  },
  {
   "cell_type": "code",
   "execution_count": null,
   "metadata": {},
   "outputs": [],
   "source": [
    "with open('config.yaml', 'r') as file:\n",
    "    config = yaml.safe_load(file)\n",
    "\n",
    "baseurl = config['zendesk_url']\n",
    "token = config['zendesk_token']\n",
    "user = config['zendesk_user']\n",
    "\n",
    "\n",
    "# # Encode the authorization string\n",
    "authorization = base64.b64encode(bytes(user + \"/token:\" + token, \"ISO-8859-1\")).decode(\"ascii\")\n",
    "\n",
    "headers = {\n",
    "    \"Accept\": \"application/json\",\n",
    "    \"Content-Type\": \"application/json\",\n",
    "    \"Authorization\": \"Basic \" + authorization\n",
    "}"
   ]
  },
  {
   "attachments": {},
   "cell_type": "markdown",
   "metadata": {},
   "source": [
    "### Get data"
   ]
  },
  {
   "cell_type": "code",
   "execution_count": null,
   "metadata": {},
   "outputs": [],
   "source": [
    "# Use a sample ticket to view custom fields\n",
    "\n",
    "resource = '/tickets/1033'\n",
    "\n",
    "url = baseurl+resource\n",
    "\n",
    "response = r.get(url, headers=headers)\n",
    "\n",
    "data = response.json()\n",
    "\n",
    "custom_fields = data['ticket']['custom_fields']\n",
    "\n",
    "custom_field_list = []\n",
    "\n",
    "for i in custom_fields:\n",
    "    custom_field_id = i['id']\n",
    "    custom_field_list.append(custom_field_id)\n",
    "\n",
    "print(str(len(custom_field_list))+\" custom fields\")"
   ]
  },
  {
   "attachments": {},
   "cell_type": "markdown",
   "metadata": {},
   "source": [
    "### Loop through each custom field to get its metadata"
   ]
  },
  {
   "cell_type": "code",
   "execution_count": null,
   "metadata": {},
   "outputs": [],
   "source": [
    "custom_field_master = []\n",
    "\n",
    "for x in custom_field_list:\n",
    "    resource = '/ticket_fields/{}'.format(x)\n",
    "    url = baseurl+resource\n",
    "    response = r.get(url, headers=headers)\n",
    "    data = response.json()\n",
    "    custom_field_master.append(data)"
   ]
  },
  {
   "attachments": {},
   "cell_type": "markdown",
   "metadata": {},
   "source": [
    "### Output to a file"
   ]
  },
  {
   "cell_type": "code",
   "execution_count": null,
   "metadata": {},
   "outputs": [],
   "source": [
    "output_file = r'C:\\Users\\ChrisTopping\\Git\\custom_fields.json'\n",
    "with open(output_file, 'w', encoding='utf-8') as f:\n",
    "    json.dump(custom_field_master, f, ensure_ascii=False, indent=4)\n",
    "print(\"File created\")"
   ]
  }
 ],
 "metadata": {
  "kernelspec": {
   "display_name": "base",
   "language": "python",
   "name": "python3"
  },
  "language_info": {
   "codemirror_mode": {
    "name": "ipython",
    "version": 3
   },
   "file_extension": ".py",
   "mimetype": "text/x-python",
   "name": "python",
   "nbconvert_exporter": "python",
   "pygments_lexer": "ipython3",
   "version": "3.10.9"
  },
  "orig_nbformat": 4
 },
 "nbformat": 4,
 "nbformat_minor": 2
}
