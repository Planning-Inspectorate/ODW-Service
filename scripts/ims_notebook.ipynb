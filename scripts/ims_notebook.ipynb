{
 "cells": [
  {
   "cell_type": "code",
   "execution_count": null,
   "metadata": {},
   "outputs": [],
   "source": [
    "import requests as r\n",
    "import yaml\n",
    "import pprint"
   ]
  },
  {
   "cell_type": "code",
   "execution_count": null,
   "metadata": {},
   "outputs": [],
   "source": [
    "with open('config.yaml', 'r') as file:\n",
    "    config = yaml.safe_load(file)\n",
    "\n",
    "url = config['url']\n",
    "baseurl = config['baseurl']\n",
    "key = config['key']\n",
    "secret = config['secret']\n",
    "username = config['username']\n",
    "password = config['password']"
   ]
  },
  {
   "cell_type": "code",
   "execution_count": null,
   "metadata": {},
   "outputs": [],
   "source": [
    "# get access token\n",
    "\n",
    "headers = {\n",
    "    \"Accept\": \"application/vnd.api+json\",\n",
    "    \"Content-Type\": \"application/vnd.api+json\"\n",
    "}\n",
    "body = {\n",
    "    \"grant_type\": \"password\",\n",
    "    \"client_id\": key,\n",
    "    \"client_secret\": secret,\n",
    "    \"username\": username,\n",
    "    \"password\": password\n",
    "}\n",
    "\n",
    "response = r.post(url, json=body, headers=headers)\n",
    "\n",
    "access_token = response.json()['access_token']"
   ]
  },
  {
   "cell_type": "code",
   "execution_count": null,
   "metadata": {},
   "outputs": [],
   "source": [
    "# get data \n",
    "\n",
    "headers = {\n",
    "    \"Accept\": \"application/vnd.api+json\",\n",
    "    \"Content-Type\": \"application/vnd.api+json\",\n",
    "    \"Authorization\": \"Bearer \" + access_token\n",
    "}\n",
    "\n",
    "modules = '{}/V8/meta/modules'.format(baseurl)\n",
    "\n",
    "moduleData = r.get(modules, headers=headers)\n",
    "\n",
    "pprint.pprint(moduleData.json())"
   ]
  },
  {
   "cell_type": "code",
   "execution_count": null,
   "metadata": {},
   "outputs": [],
   "source": [
    "# list modules\n",
    "\n",
    "moduleList = []\n",
    "\n",
    "for key, value in moduleData.json().items():\n",
    "    for key, value in value.items():\n",
    "        if key == 'attributes':\n",
    "            for key, value in value.items():\n",
    "                moduleList.append(key)\n",
    "\n",
    "pprint.pprint(moduleList)"
   ]
  },
  {
   "cell_type": "code",
   "execution_count": null,
   "metadata": {},
   "outputs": [],
   "source": [
    "# loop through modules to get data fields\n",
    "\n",
    "for module in moduleList[:1]:\n",
    "    resource = '{}/V8/meta/fields/{}'.format(baseurl, module)\n",
    "    # resource = '{}/V8/module/{}'.format(baseurl, module)\n",
    "    resourceData = r.get(resource, headers=headers)\n",
    "    for key, value in resourceData.json().items():\n",
    "        for key, value in value.items():\n",
    "            if key == 'attributes':\n",
    "                for key, value in value.items():\n",
    "                    print(key)\n",
    "    # pprint.pprint(resourceData.json())"
   ]
  }
 ],
 "metadata": {
  "kernelspec": {
   "display_name": "base",
   "language": "python",
   "name": "python3"
  },
  "language_info": {
   "codemirror_mode": {
    "name": "ipython",
    "version": 3
   },
   "file_extension": ".py",
   "mimetype": "text/x-python",
   "name": "python",
   "nbconvert_exporter": "python",
   "pygments_lexer": "ipython3",
   "version": "3.10.9"
  },
  "orig_nbformat": 4
 },
 "nbformat": 4,
 "nbformat_minor": 2
}
