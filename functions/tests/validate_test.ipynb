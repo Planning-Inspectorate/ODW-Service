{
 "cells": [
  {
   "cell_type": "code",
   "execution_count": null,
   "metadata": {},
   "outputs": [],
   "source": [
    "from validate import validate\n",
    "from model_nsip_project import NsipProject\n",
    "from set_environment import config, current_config\n",
    "import var_funcs\n",
    "from servicebus_funcs import get_messages"
   ]
  },
  {
   "cell_type": "code",
   "execution_count": null,
   "metadata": {},
   "outputs": [],
   "source": [
    "_NAMESPACE = current_config['servicebus_namespace_odw']\n",
    "_SUBSCRIPTION = config['global']['nsip-project-entity']\n",
    "_TOPIC = config['global']['nsip-project-entity']\n",
    "_CREDENTIAL = var_funcs.CREDENTIAL\n",
    "_MAX_MESSAGE_COUNT = config['global']['max_message_count']\n",
    "_MAX_WAIT_TIME = config['global']['max_wait_time']"
   ]
  },
  {
   "cell_type": "code",
   "execution_count": null,
   "metadata": {},
   "outputs": [],
   "source": [
    "# messages = {\n",
    "#     \"caseId\": \"value1\"\n",
    "# }\n",
    "\n",
    "# data = [messages]\n",
    "# print(data)"
   ]
  },
  {
   "cell_type": "code",
   "execution_count": null,
   "metadata": {},
   "outputs": [],
   "source": [
    "get_messages(_NAMESPACE,\n",
    "            _CREDENTIAL,\n",
    "            _TOPIC,\n",
    "            _SUBSCRIPTION,\n",
    "            _MAX_MESSAGE_COUNT,\n",
    "            _MAX_WAIT_TIME,\n",
    "            NsipProject\n",
    "            )"
   ]
  }
 ],
 "metadata": {
  "kernelspec": {
   "display_name": "functions-env",
   "language": "python",
   "name": "python3"
  },
  "language_info": {
   "codemirror_mode": {
    "name": "ipython",
    "version": 3
   },
   "file_extension": ".py",
   "mimetype": "text/x-python",
   "name": "python",
   "nbconvert_exporter": "python",
   "pygments_lexer": "ipython3",
   "version": "3.11.5"
  }
 },
 "nbformat": 4,
 "nbformat_minor": 2
}
