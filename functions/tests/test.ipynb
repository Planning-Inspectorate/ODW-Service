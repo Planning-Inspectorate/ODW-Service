{
 "cells": [
  {
   "cell_type": "code",
   "execution_count": null,
   "metadata": {},
   "outputs": [],
   "source": [
    "import servicebus_funcs\n",
    "import var_funcs\n",
    "from set_environment import config, current_config\n",
    "from pins_data_model import load_schemas\n",
    "import pprint\n",
    "import validate_messages"
   ]
  },
  {
   "cell_type": "code",
   "execution_count": null,
   "metadata": {},
   "outputs": [],
   "source": [
    "_NAMESPACE = current_config['servicebus_namespace_odw']\n",
    "_SUBSCRIPTION = config['global']['nsip-project-entity']\n",
    "_TOPIC = config['global']['nsip-project-entity']\n",
    "_CREDENTIAL = var_funcs.CREDENTIAL\n",
    "_MAX_MESSAGE_COUNT = config['global']['max_message_count']"
   ]
  },
  {
   "cell_type": "code",
   "execution_count": null,
   "metadata": {},
   "outputs": [],
   "source": [
    "# servicebus_funcs.get_messages(_NAMESPACE,\n",
    "#                               _CREDENTIAL,\n",
    "#                               _TOPIC,\n",
    "#                               _SUBSCRIPTION,\n",
    "#                               _MAX_MESSAGE_COUNT)"
   ]
  },
  {
   "cell_type": "code",
   "execution_count": null,
   "metadata": {},
   "outputs": [],
   "source": [
    "schema = load_schemas.load_all_schemas()[\"schemas\"][\"nsip-exam-timetable.schema.json\"]\n",
    "# pprint.pprint(schema)\n",
    "\n",
    "data = [{\n",
    "        \"date\" : \"2020-01-14T00:00:00.0000000\",\n",
    "        \"caseReference\": \"1234567\",\n",
    "        \"events\": []\n",
    "        },\n",
    "        {\n",
    "        \"date\" : \"2024-01-11T12:34:56.789+00:00\",\n",
    "        \"caseReference\": \"7654334\",\n",
    "        \"events\": []\n",
    "        },\n",
    "        {\n",
    "        \"date\" : \"123\",\n",
    "        \"caseReference\": \"mycaseref\"\n",
    "        }\n",
    "\n",
    "]"
   ]
  },
  {
   "cell_type": "code",
   "execution_count": null,
   "metadata": {},
   "outputs": [],
   "source": [
    "print(type(schema))"
   ]
  },
  {
   "cell_type": "code",
   "execution_count": null,
   "metadata": {},
   "outputs": [],
   "source": [
    "validate_messages.validate_data(data, schema)"
   ]
  }
 ],
 "metadata": {
  "kernelspec": {
   "display_name": "functions-env",
   "language": "python",
   "name": "python3"
  },
  "language_info": {
   "codemirror_mode": {
    "name": "ipython",
    "version": 3
   },
   "file_extension": ".py",
   "mimetype": "text/x-python",
   "name": "python",
   "nbconvert_exporter": "python",
   "pygments_lexer": "ipython3",
   "version": "3.11.5"
  }
 },
 "nbformat": 4,
 "nbformat_minor": 2
}
