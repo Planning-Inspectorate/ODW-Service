{
 "cells": [
  {
   "cell_type": "code",
   "execution_count": 5,
   "metadata": {},
   "outputs": [],
   "source": [
    "import servicebus_funcs\n",
    "import var_funcs\n",
    "from set_environment import config, current_config"
   ]
  },
  {
   "cell_type": "code",
   "execution_count": 8,
   "metadata": {},
   "outputs": [],
   "source": [
    "_NAMESPACE = current_config['servicebus_namespace_odw']\n",
    "_SUBSCRIPTION = config['global']['nsip-project-entity']\n",
    "_TOPIC = config['global']['nsip-project-entity']\n",
    "_CREDENTIAL = var_funcs.CREDENTIAL\n",
    "_MAX_MESSAGE_COUNT = config['global']['max_message_count']"
   ]
  },
  {
   "cell_type": "code",
   "execution_count": null,
   "metadata": {},
   "outputs": [],
   "source": [
    "servicebus_funcs.get_messages(_NAMESPACE,\n",
    "                              _CREDENTIAL,\n",
    "                              _TOPIC,\n",
    "                              _SUBSCRIPTION,\n",
    "                              _MAX_MESSAGE_COUNT)"
   ]
  }
 ],
 "metadata": {
  "kernelspec": {
   "display_name": "functions-env",
   "language": "python",
   "name": "python3"
  },
  "language_info": {
   "codemirror_mode": {
    "name": "ipython",
    "version": 3
   },
   "file_extension": ".py",
   "mimetype": "text/x-python",
   "name": "python",
   "nbconvert_exporter": "python",
   "pygments_lexer": "ipython3",
   "version": "3.11.5"
  }
 },
 "nbformat": 4,
 "nbformat_minor": 2
}
