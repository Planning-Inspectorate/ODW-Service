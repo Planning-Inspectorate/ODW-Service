{
 "cells": [
  {
   "cell_type": "code",
   "execution_count": null,
   "metadata": {},
   "outputs": [],
   "source": [
    "import servicebus_funcs\n",
    "import config\n",
    "import model_nsip_project\n",
    "import validation_nsip_project"
   ]
  },
  {
   "cell_type": "code",
   "execution_count": null,
   "metadata": {},
   "outputs": [],
   "source": [
    "_NAMESPACE = config.ODW_NAMESPACE_DEV\n",
    "_SUBSCRIPTION = config.NSIP_PROJECT_SUBSCRIPTION\n",
    "_TOPIC = config.NSIP_PROJECT_TOPIC\n",
    "_CREDENTIAL = config.CREDENTIAL\n",
    "_MESSAGES = model_nsip_project.NsipProject\n",
    "_MAX_MESSAGE_COUNT = config.MAX_MESSAGE_COUNT"
   ]
  },
  {
   "cell_type": "code",
   "execution_count": null,
   "metadata": {},
   "outputs": [],
   "source": [
    "servicebus_funcs.get_messages(_NAMESPACE,\n",
    "                              _CREDENTIAL,\n",
    "                              _TOPIC,\n",
    "                              _SUBSCRIPTION,\n",
    "                              _MAX_MESSAGE_COUNT)"
   ]
  },
  {
   "cell_type": "code",
   "execution_count": null,
   "metadata": {},
   "outputs": [],
   "source": [
    "validation_nsip_project.validate()"
   ]
  }
 ],
 "metadata": {
  "kernelspec": {
   "display_name": "functions-env",
   "language": "python",
   "name": "python3"
  },
  "language_info": {
   "codemirror_mode": {
    "name": "ipython",
    "version": 3
   },
   "file_extension": ".py",
   "mimetype": "text/x-python",
   "name": "python",
   "nbconvert_exporter": "python",
   "pygments_lexer": "ipython3",
   "version": "3.11.5"
  }
 },
 "nbformat": 4,
 "nbformat_minor": 2
}
