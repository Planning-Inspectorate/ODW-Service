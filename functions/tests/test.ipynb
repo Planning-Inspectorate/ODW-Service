{
 "cells": [
  {
   "cell_type": "code",
   "execution_count": 5,
   "metadata": {},
   "outputs": [],
   "source": [
    "import servicebus_funcs\n",
    "import var_funcs\n",
    "from set_environment import config, current_config\n",
    "import asyncio\n",
    "import validation_nsip_project"
   ]
  },
  {
   "cell_type": "code",
   "execution_count": 8,
   "metadata": {},
   "outputs": [],
   "source": [
    "_NAMESPACE = current_config['servicebus_namespace_odw']\n",
    "_SUBSCRIPTION = config['global']['nsip-project-entity']\n",
    "_TOPIC = config['global']['nsip-project-entity']\n",
    "_CREDENTIAL = var_funcs.CREDENTIAL\n",
    "_MAX_MESSAGE_COUNT = config['global']['max_message_count']\n",
    "_STORAGE = current_config['storage_account']\n",
    "_CONTAINER = current_config['storage_container']\n",
    "_ENTITY = config['global']['nsip-project-entity']\n",
    "_CURRENT_DATE = var_funcs.CURRENT_DATE\n",
    "_UTC_TIMESTAMP = var_funcs.UTC_TIMESTAMP\n",
    "_FILENAME = f\"{_ENTITY}/{_CURRENT_DATE}/{_ENTITY}_{_UTC_TIMESTAMP}.json\""
   ]
  },
  {
   "cell_type": "code",
   "execution_count": null,
   "metadata": {},
   "outputs": [],
   "source": [
    "servicebus_funcs.get_messages(_NAMESPACE,\n",
    "                              _CREDENTIAL,\n",
    "                              _TOPIC,\n",
    "                              _SUBSCRIPTION,\n",
    "                              _MAX_MESSAGE_COUNT)"
   ]
  },
  {
   "cell_type": "code",
   "execution_count": 2,
   "metadata": {},
   "outputs": [],
   "source": [
    "async def validatedata():\n",
    "    await validation_nsip_project.validate()\n",
    "    # Simulating failure\n",
    "    # Uncomment the below line to simulate an operation failure\n",
    "    # raise Exception(\"Operation 1 failed\")"
   ]
  },
  {
   "cell_type": "code",
   "execution_count": 3,
   "metadata": {},
   "outputs": [],
   "source": [
    "async def sendtostorage():\n",
    "    await servicebus_funcs.send_to_storage(_STORAGE, _CREDENTIAL, _CONTAINER, _FILENAME, data=validatedata())"
   ]
  },
  {
   "cell_type": "code",
   "execution_count": 4,
   "metadata": {},
   "outputs": [],
   "source": [
    "async def process_message(msg, processed_messages):\n",
    "    # Process the received message\n",
    "    await validatedata()\n",
    "    await sendtostorage()\n",
    "\n",
    "    # Store the processed message\n",
    "    processed_messages.append(msg)"
   ]
  },
  {
   "cell_type": "code",
   "execution_count": null,
   "metadata": {},
   "outputs": [],
   "source": [
    "async def perform_additional_functions():\n",
    "    # Simulating additional functions\n",
    "    await   # Simulating additional processing\n",
    "    # Simulating failure\n",
    "    # Uncomment the below line to simulate a failure in additional functions\n",
    "    # raise Exception(\"Additional functions failed\")"
   ]
  },
  {
   "cell_type": "code",
   "execution_count": null,
   "metadata": {},
   "outputs": [],
   "source": [
    "async def receive_messages():\n",
    "    processed_messages = []\n",
    "\n",
    "    # Your Azure Service Bus client setup\n",
    "    servicebus_client = ServiceBusClient.from_connection_string(\"<connection_string>\")\n",
    "    async with servicebus_client:\n",
    "        receiver = servicebus_client.get_subscription_receiver(\n",
    "            topic_name=_TOPIC,\n",
    "            subscription_name=\"<subscription_name>\",\n",
    "            max_wait_time=5,\n",
    "        )\n",
    "\n",
    "        async with receiver:\n",
    "            received_msgs = await receiver.receive_messages(max_message_count=20)\n",
    "\n",
    "            for msg in received_msgs:\n",
    "                await process_message(msg, processed_messages)\n",
    "\n",
    "    # After processing messages, check if all additional functions executed successfully\n",
    "    try:\n",
    "        await perform_additional_functions()\n",
    "        # If all functions succeed, complete the messages\n",
    "        for msg in processed_messages:\n",
    "            await msg.complete()\n",
    "    except Exception as e:\n",
    "        print(f\"Error: {e}\")\n",
    "        # If any function fails, abandon all messages\n",
    "        for msg in processed_messages:\n",
    "            await msg.abandon()"
   ]
  },
  {
   "cell_type": "code",
   "execution_count": null,
   "metadata": {},
   "outputs": [],
   "source": [
    "if __name__ == \"__main__\":\n",
    "    asyncio.run(receive_messages())"
   ]
  }
 ],
 "metadata": {
  "kernelspec": {
   "display_name": "functions-env",
   "language": "python",
   "name": "python3"
  },
  "language_info": {
   "codemirror_mode": {
    "name": "ipython",
    "version": 3
   },
   "file_extension": ".py",
   "mimetype": "text/x-python",
   "name": "python",
   "nbconvert_exporter": "python",
   "pygments_lexer": "ipython3",
   "version": "3.11.5"
  }
 },
 "nbformat": 4,
 "nbformat_minor": 2
}
