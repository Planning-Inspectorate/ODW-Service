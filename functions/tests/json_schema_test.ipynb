{
 "cells": [
  {
   "cell_type": "code",
   "execution_count": null,
   "metadata": {},
   "outputs": [],
   "source": [
    "import validate_messages\n",
    "import json\n",
    "from set_environment import config\n",
    "import pprint\n",
    "from azure.servicebus import ServiceBusClient\n",
    "from azure.identity import DefaultAzureCredential\n",
    "from azure.storage.blob import BlobServiceClient\n",
    "from var_funcs import CREDENTIAL\n",
    "from pins_data_model import load_schemas\n",
    "import pytest"
   ]
  },
  {
   "cell_type": "code",
   "execution_count": null,
   "metadata": {},
   "outputs": [],
   "source": [
    "_ENTITY = \"service-user\"\n",
    "_CREDENTIAL = CREDENTIAL\n",
    "_NAMESPACE = config['dev'][\"servicebus_namespace_odt\"]\n",
    "_MAX_MESSAGE_COUNT = config[\"global\"][\"max_message_count\"]\n",
    "_SCHEMAS = load_schemas.load_all_schemas()[\"schemas\"]\n",
    "_SCHEMA = _SCHEMAS[f\"{_ENTITY}.schema.json\"]\n",
    "_TOPIC = config[\"global\"][\"entities\"][f\"{_ENTITY}\"][\"topic\"]\n",
    "_SUBSCRIPTION = config[\"global\"][\"entities\"][f\"{_ENTITY}\"][\"subscription\"]"
   ]
  },
  {
   "cell_type": "code",
   "execution_count": null,
   "metadata": {},
   "outputs": [],
   "source": [
    "def read_messages(namespace: str,\n",
    "    credential: DefaultAzureCredential,\n",
    "    topic: str,\n",
    "    subscription: str,\n",
    "    max_message_count: int,\n",
    ") -> list:\n",
    "\n",
    "    messages = []\n",
    "\n",
    "    servicebus_client = ServiceBusClient(\n",
    "    fully_qualified_namespace=namespace, credential=credential\n",
    ")\n",
    "    \n",
    "    with servicebus_client:\n",
    "        subscription_receiver = servicebus_client.get_subscription_receiver(\n",
    "            topic_name=topic, \n",
    "            subscription_name=subscription,\n",
    "        )\n",
    "\n",
    "        print(\"Reading messages...\")\n",
    "\n",
    "        with subscription_receiver:\n",
    "            received_msgs = subscription_receiver.peek_messages(\n",
    "                max_message_count\n",
    "            )\n",
    "\n",
    "            for message in received_msgs:\n",
    "                message_body = json.loads(str(message))\n",
    "                messages.append(message_body)\n",
    "\n",
    "    return messages"
   ]
  },
  {
   "cell_type": "code",
   "execution_count": null,
   "metadata": {},
   "outputs": [],
   "source": [
    "data = read_messages(_NAMESPACE, _CREDENTIAL, _TOPIC, _SUBSCRIPTION, _MAX_MESSAGE_COUNT)\n",
    "pprint.pprint(data)"
   ]
  },
  {
   "cell_type": "code",
   "execution_count": null,
   "metadata": {},
   "outputs": [],
   "source": [
    "validate_messages.validate_data(data, schema=_SCHEMA)"
   ]
  },
  {
   "cell_type": "markdown",
   "metadata": {},
   "source": [
    "#### Employee"
   ]
  },
  {
   "cell_type": "code",
   "execution_count": null,
   "metadata": {},
   "outputs": [],
   "source": [
    "schema: dict = {\n",
    "\t\"$schema\": \"http://json-schema.org/draft-07/schema#\",\n",
    "\t\"$id\": \"employee.schema.json\",\n",
    "\t\"title\": \"Employee\",\n",
    "\t\"type\": \"object\",\n",
    "\t\"required\": [\"id\", \"firstName\", \"lastName\"],\n",
    "\t\"properties\": {\n",
    "\t\t\"id\": {\n",
    "\t\t\t\"type\": \"string\"\n",
    "\t\t},\n",
    "\t\t\"firstName\": {\n",
    "\t\t\t\"type\": \"string\"\n",
    "\t\t},\n",
    "\t\t\"lastName\": {\n",
    "\t\t\t\"type\": \"string\"\n",
    "\t\t},\n",
    "        \"my_optional_field\": {\n",
    "            \"type\": [\"string\"]\n",
    "\t\t}\n",
    "\t}\n",
    "}"
   ]
  },
  {
   "cell_type": "code",
   "execution_count": null,
   "metadata": {},
   "outputs": [],
   "source": [
    "data: list[dict] = [{\n",
    "        \"id\": \"12345\",\n",
    "        \"firstName\": \"Chris\",\n",
    "        \"lastName\": \"Topping\",\n",
    "        \"my_optional_field\": None\n",
    "    }\n",
    "]"
   ]
  },
  {
   "cell_type": "code",
   "execution_count": null,
   "metadata": {},
   "outputs": [],
   "source": [
    "validate_messages.validate_data(data, schema)"
   ]
  }
 ],
 "metadata": {
  "kernelspec": {
   "display_name": "functions-env",
   "language": "python",
   "name": "python3"
  },
  "language_info": {
   "codemirror_mode": {
    "name": "ipython",
    "version": 3
   },
   "file_extension": ".py",
   "mimetype": "text/x-python",
   "name": "python",
   "nbconvert_exporter": "python",
   "pygments_lexer": "ipython3",
   "version": "3.11.5"
  }
 },
 "nbformat": 4,
 "nbformat_minor": 2
}
