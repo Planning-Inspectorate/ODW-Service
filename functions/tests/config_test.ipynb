{
 "cells": [
  {
   "cell_type": "code",
   "execution_count": null,
   "metadata": {},
   "outputs": [],
   "source": [
    "import yaml\n",
    "import pprint\n",
    "\n",
    "def load_config(file_path):\n",
    "    with open(file_path, 'r') as file:\n",
    "        config = yaml.safe_load(file)\n",
    "    return config\n",
    "\n",
    "def get_environment_config(config, environment):\n",
    "    if environment in config:\n",
    "        return config[environment]\n",
    "    else:\n",
    "        raise ValueError(f\"Environment '{environment}' not found in the configuration file.\")\n",
    "\n",
    "# Path to your YAML config file\n",
    "yaml_file_path = 'config.yaml'\n",
    "\n",
    "# Load the YAML configuration\n",
    "config = load_config(yaml_file_path)\n",
    "\n",
    "# Set the current environment (modify this variable to change environment)\n",
    "current_environment = 'dev'  # Change this to 'test' or 'prod' as needed\n",
    "\n",
    "# Get configuration for the current environment\n",
    "current_config = get_environment_config(config, current_environment)\n",
    "\n",
    "pprint.pprint(current_config)"
   ]
  }
 ],
 "metadata": {
  "kernelspec": {
   "display_name": "functions-env",
   "language": "python",
   "name": "python3"
  },
  "language_info": {
   "codemirror_mode": {
    "name": "ipython",
    "version": 3
   },
   "file_extension": ".py",
   "mimetype": "text/x-python",
   "name": "python",
   "nbconvert_exporter": "python",
   "pygments_lexer": "ipython3",
   "version": "3.11.5"
  }
 },
 "nbformat": 4,
 "nbformat_minor": 2
}
